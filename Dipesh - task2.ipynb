{
 "cells": [
  {
   "cell_type": "code",
   "execution_count": 3,
   "id": "664c6a2a-a628-43e3-8688-f4bf25253a15",
   "metadata": {},
   "outputs": [],
   "source": [
    "list1 = [123 , \"abc\"]"
   ]
  },
  {
   "cell_type": "code",
   "execution_count": 4,
   "id": "7a10b0e1-0110-48d4-882a-9477cef910ac",
   "metadata": {},
   "outputs": [
    {
     "data": {
      "text/plain": [
       "123"
      ]
     },
     "execution_count": 4,
     "metadata": {},
     "output_type": "execute_result"
    }
   ],
   "source": [
    "list1[0]"
   ]
  },
  {
   "cell_type": "code",
   "execution_count": 5,
   "id": "0195a4f2-bdb2-4030-805a-7d57c4a15337",
   "metadata": {},
   "outputs": [],
   "source": [
    "list2 = [[233 , \"abc\"] , 123]"
   ]
  },
  {
   "cell_type": "code",
   "execution_count": 6,
   "id": "470442cc-63dd-498b-a5bf-5a7d32ad77b2",
   "metadata": {},
   "outputs": [
    {
     "data": {
      "text/plain": [
       "123"
      ]
     },
     "execution_count": 6,
     "metadata": {},
     "output_type": "execute_result"
    }
   ],
   "source": [
    "list2[1]"
   ]
  },
  {
   "cell_type": "code",
   "execution_count": 7,
   "id": "130e6e55-4994-4f18-b7d2-b1766d0f4910",
   "metadata": {},
   "outputs": [],
   "source": [
    "list3 = [[243] , \"abc\" , 567 , [\"999\"]] "
   ]
  },
  {
   "cell_type": "code",
   "execution_count": 9,
   "id": "e1eafd80-629d-4302-9586-700d32e8e1ed",
   "metadata": {},
   "outputs": [
    {
     "data": {
      "text/plain": [
       "567"
      ]
     },
     "execution_count": 9,
     "metadata": {},
     "output_type": "execute_result"
    }
   ],
   "source": [
    "list3[2]"
   ]
  },
  {
   "cell_type": "code",
   "execution_count": 10,
   "id": "d7651ba4-f1ca-476f-9709-4264c5ed322a",
   "metadata": {},
   "outputs": [],
   "source": [
    "list4 = [[567] , 89 , \"xyz\"]"
   ]
  },
  {
   "cell_type": "code",
   "execution_count": 13,
   "id": "ab6095b8-e006-4586-8372-c9bb6455392c",
   "metadata": {},
   "outputs": [
    {
     "data": {
      "text/plain": [
       "[567]"
      ]
     },
     "execution_count": 13,
     "metadata": {},
     "output_type": "execute_result"
    }
   ],
   "source": [
    "list4[0]"
   ]
  },
  {
   "cell_type": "code",
   "execution_count": 15,
   "id": "53528486-1cb8-42fb-a4fd-fa5c7f0084c1",
   "metadata": {},
   "outputs": [],
   "source": [
    "list5 = [\"abc\" , \"yui\" , \"beluga\"]"
   ]
  },
  {
   "cell_type": "code",
   "execution_count": 16,
   "id": "1d4c955c-c750-47c8-9893-10f9fc491397",
   "metadata": {},
   "outputs": [
    {
     "data": {
      "text/plain": [
       "'beluga'"
      ]
     },
     "execution_count": 16,
     "metadata": {},
     "output_type": "execute_result"
    }
   ],
   "source": [
    "list5[2]"
   ]
  },
  {
   "cell_type": "code",
   "execution_count": 17,
   "id": "af8c732e-331e-49cc-bb47-3053026c0b5e",
   "metadata": {},
   "outputs": [],
   "source": [
    "list6 = [[1,2 ,3] , \"xyz\"]"
   ]
  },
  {
   "cell_type": "code",
   "execution_count": 18,
   "id": "73c0d664-d564-4cbc-8190-d67bfb4ffb2e",
   "metadata": {},
   "outputs": [
    {
     "data": {
      "text/plain": [
       "3"
      ]
     },
     "execution_count": 18,
     "metadata": {},
     "output_type": "execute_result"
    }
   ],
   "source": [
    "list6[0][2]"
   ]
  },
  {
   "cell_type": "code",
   "execution_count": 19,
   "id": "bf167d54-7a0c-48a0-bd48-1de66e3fa324",
   "metadata": {},
   "outputs": [],
   "source": [
    "list7 = [\"a\" , \"b\" , \"c\" , \"d\" , \"e\" , \"f\" , \"g\"]"
   ]
  },
  {
   "cell_type": "code",
   "execution_count": 20,
   "id": "e31d2feb-a3bb-4a3d-82af-d28c855fe7f0",
   "metadata": {},
   "outputs": [
    {
     "data": {
      "text/plain": [
       "['b', 'c', 'd', 'e']"
      ]
     },
     "execution_count": 20,
     "metadata": {},
     "output_type": "execute_result"
    }
   ],
   "source": [
    "list7[1 : 5]"
   ]
  },
  {
   "cell_type": "code",
   "execution_count": 21,
   "id": "60cfd648-0242-4344-94cd-03472361d10a",
   "metadata": {},
   "outputs": [],
   "source": [
    "list8 = [\"ghg\" , \"uiui\" , \"klk\" , \"h\" , \"6\"]"
   ]
  },
  {
   "cell_type": "code",
   "execution_count": 22,
   "id": "34038537-c864-495e-9bfe-9629f91aa834",
   "metadata": {},
   "outputs": [
    {
     "data": {
      "text/plain": [
       "'6'"
      ]
     },
     "execution_count": 22,
     "metadata": {},
     "output_type": "execute_result"
    }
   ],
   "source": [
    "list8[-1]"
   ]
  },
  {
   "cell_type": "code",
   "execution_count": 23,
   "id": "8a8296ee-7770-483f-878a-d999ae278f9f",
   "metadata": {},
   "outputs": [],
   "source": [
    "list9 = [\"is\" , \"he\" , \"bad\" , \"guy\"] "
   ]
  },
  {
   "cell_type": "code",
   "execution_count": 29,
   "id": "c61bf752-91fb-4e05-aa73-94662afd1dd6",
   "metadata": {},
   "outputs": [
    {
     "data": {
      "text/plain": [
       "['guy', 'bad', 'he', 'is']"
      ]
     },
     "execution_count": 29,
     "metadata": {},
     "output_type": "execute_result"
    }
   ],
   "source": [
    "list9[ ::-1]"
   ]
  },
  {
   "cell_type": "code",
   "execution_count": 31,
   "id": "7de2c01f-87c0-4591-8c01-70fe9ef95cbf",
   "metadata": {},
   "outputs": [],
   "source": [
    "list10 = [[1,2,3,4] , [\"A\" , \"B\" , \"C\"] , True , False ]"
   ]
  },
  {
   "cell_type": "code",
   "execution_count": 33,
   "id": "a438e2f4-6f23-466a-b546-7af3aa1bae56",
   "metadata": {},
   "outputs": [
    {
     "data": {
      "text/plain": [
       "'C'"
      ]
     },
     "execution_count": 33,
     "metadata": {},
     "output_type": "execute_result"
    }
   ],
   "source": [
    "list10[1][2]"
   ]
  },
  {
   "cell_type": "code",
   "execution_count": 34,
   "id": "92ea504c-9f0a-4dd4-8de7-3fa3496434d1",
   "metadata": {},
   "outputs": [],
   "source": [
    "list11 = [133 , 767 , 78 , 989 , (12 , 23 , 33 , \"h\")]"
   ]
  },
  {
   "cell_type": "code",
   "execution_count": 37,
   "id": "72e007d6-3144-4cc6-95e4-358c22733f5c",
   "metadata": {},
   "outputs": [
    {
     "data": {
      "text/plain": [
       "33"
      ]
     },
     "execution_count": 37,
     "metadata": {},
     "output_type": "execute_result"
    }
   ],
   "source": [
    "list11[4][2]"
   ]
  },
  {
   "cell_type": "code",
   "execution_count": 38,
   "id": "57227f37-f6a0-47a8-a072-b9e0002e8ca4",
   "metadata": {},
   "outputs": [],
   "source": [
    "list12 = [\"23\" , True , \"False\" , 4.445]"
   ]
  },
  {
   "cell_type": "code",
   "execution_count": 39,
   "id": "0f42d3d9-63e0-4abf-b6a1-577e5f4d7b4b",
   "metadata": {},
   "outputs": [
    {
     "data": {
      "text/plain": [
       "4.445"
      ]
     },
     "execution_count": 39,
     "metadata": {},
     "output_type": "execute_result"
    }
   ],
   "source": [
    "list12[3]"
   ]
  },
  {
   "cell_type": "code",
   "execution_count": 41,
   "id": "4eebb209-e60b-4b07-b9a5-248e73554e10",
   "metadata": {},
   "outputs": [],
   "source": [
    "list13 = [[45 , 56 , \"grrr\" , True] , \"x\" , \"y\" , \"w\"]"
   ]
  },
  {
   "cell_type": "code",
   "execution_count": 43,
   "id": "becb8dd5-3c1a-4206-b97b-177c7f101ea1",
   "metadata": {},
   "outputs": [
    {
     "data": {
      "text/plain": [
       "True"
      ]
     },
     "execution_count": 43,
     "metadata": {},
     "output_type": "execute_result"
    }
   ],
   "source": [
    "list13[0][3]"
   ]
  },
  {
   "cell_type": "code",
   "execution_count": 44,
   "id": "c95a49c8-74dc-4c7f-8e7c-7b3e839cd6b9",
   "metadata": {},
   "outputs": [],
   "source": [
    "list14 = [34 , \"a\" , \"b\" , \"c\" , \"d\" , 67 , True]"
   ]
  },
  {
   "cell_type": "code",
   "execution_count": 45,
   "id": "e6f8b672-61a8-420f-9ca9-b1a6edad33a6",
   "metadata": {},
   "outputs": [
    {
     "data": {
      "text/plain": [
       "['b', 'c', 'd', 67]"
      ]
     },
     "execution_count": 45,
     "metadata": {},
     "output_type": "execute_result"
    }
   ],
   "source": [
    "list14[-5 : -1]"
   ]
  },
  {
   "cell_type": "code",
   "execution_count": 46,
   "id": "c60995ca-24f4-4a89-b8c4-ef6622b3b4c7",
   "metadata": {},
   "outputs": [],
   "source": [
    "list15 = [1 , 2 , 3 , 4 ]"
   ]
  },
  {
   "cell_type": "code",
   "execution_count": 47,
   "id": "18c94a9f-8bff-42d2-ae66-f225c2f46049",
   "metadata": {},
   "outputs": [
    {
     "data": {
      "text/plain": [
       "3"
      ]
     },
     "execution_count": 47,
     "metadata": {},
     "output_type": "execute_result"
    }
   ],
   "source": [
    "list15[2]"
   ]
  },
  {
   "cell_type": "code",
   "execution_count": null,
   "id": "68f50322-8bb7-4d99-8988-a47135585322",
   "metadata": {},
   "outputs": [],
   "source": []
  }
 ],
 "metadata": {
  "kernelspec": {
   "display_name": "Python 3 (ipykernel)",
   "language": "python",
   "name": "python3"
  },
  "language_info": {
   "codemirror_mode": {
    "name": "ipython",
    "version": 3
   },
   "file_extension": ".py",
   "mimetype": "text/x-python",
   "name": "python",
   "nbconvert_exporter": "python",
   "pygments_lexer": "ipython3",
   "version": "3.12.4"
  }
 },
 "nbformat": 4,
 "nbformat_minor": 5
}
